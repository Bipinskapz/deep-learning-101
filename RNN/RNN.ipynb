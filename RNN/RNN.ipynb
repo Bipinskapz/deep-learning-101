{
 "cells": [
  {
   "cell_type": "code",
   "execution_count": 1,
   "metadata": {},
   "outputs": [],
   "source": [
    "import numpy as np"
   ]
  },
  {
   "cell_type": "code",
   "execution_count": 2,
   "metadata": {},
   "outputs": [],
   "source": [
    "np.random.seed(42)"
   ]
  },
  {
   "cell_type": "code",
   "execution_count": 161,
   "metadata": {},
   "outputs": [],
   "source": [
    "xt = np.random.randn(3, 5)\n",
    "wx = np.random.randn(10, 3)\n",
    "a0 = np.random.randn(4, 5)\n",
    "wa = np.random.randn(10, 4)\n",
    "wy = np.random.randn(5, 10)\n",
    "ba = np.random.randn(10, 5)\n",
    "by = np.random.randn(5, 5)\n",
    "\n",
    "params = {\"wx\": wx, \"wa\": wa, \"wy\": wy, \"ba\": ba, \"by\": by}"
   ]
  },
  {
   "cell_type": "code",
   "execution_count": 162,
   "metadata": {},
   "outputs": [],
   "source": [
    "def softmax(x):\n",
    "    pred = np.zeros((x.shape[0], x.shape[1]))\n",
    "    \n",
    "    for y, i in enumerate(x):\n",
    "        pred[y] = np.exp(i)/np.sum(np.exp(i))\n",
    "        #pred[i] = np.exp(x[i])/np.sum(np.exp(x[i]))\n",
    "        \n",
    "    return pred"
   ]
  },
  {
   "cell_type": "code",
   "execution_count": 163,
   "metadata": {},
   "outputs": [
    {
     "name": "stdout",
     "output_type": "stream",
     "text": [
      "[[0.17558611 0.06462289 0.48736694 0.06272385 0.10432485 0.10537534]\n",
      " [0.07674187 0.22517876 0.07965789 0.44068191 0.04822723 0.12951235]\n",
      " [0.06036336 0.19976487 0.1290524  0.1122924  0.43036911 0.06815785]\n",
      " [0.35113571 0.09053149 0.2186217  0.05909122 0.10069947 0.17992041]\n",
      " [0.32202611 0.05801997 0.27441781 0.06538591 0.03561971 0.24453049]]\n",
      "0.9999999999999999\n",
      "1.0\n",
      "0.9999999999999998\n",
      "1.0\n",
      "1.0\n"
     ]
    }
   ],
   "source": [
    "x = np.random.randn(5, 6)\n",
    "y = softmax(x)\n",
    "print(y)\n",
    "\n",
    "for i in y:\n",
    "    print(np.sum(i))"
   ]
  },
  {
   "cell_type": "code",
   "execution_count": 164,
   "metadata": {},
   "outputs": [],
   "source": [
    "def rnn_def(xt, a_next, parameters):\n",
    "    wx = parameters[\"wx\"]\n",
    "    wa = parameters[\"wa\"]\n",
    "    wy = parameters[\"wy\"]\n",
    "    by = parameters[\"by\"]\n",
    "    ba = parameters[\"ba\"]\n",
    "\n",
    "    hidden_s = np.tanh(np.add(np.dot(wx, xt), np.dot(wa, a_next), ba))\n",
    "    \n",
    "    y_ = softmax(np.add(np.dot(wy, hidden_s), by))\n",
    "    \n",
    "    return (hidden_s, y_)"
   ]
  },
  {
   "cell_type": "code",
   "execution_count": 165,
   "metadata": {
    "scrolled": true
   },
   "outputs": [
    {
     "data": {
      "text/plain": [
       "(array([[-0.17738095, -0.05642125, -0.98948517, -0.8697797 ,  0.72562301],\n",
       "        [-0.57383772, -0.94997017,  0.72658419,  0.99906576,  0.25478837],\n",
       "        [-0.70577364, -0.99666834,  0.41655705, -0.20908389,  0.92507698],\n",
       "        [-0.8358413 ,  0.99842233, -0.84343241, -0.95959836,  0.99380288],\n",
       "        [-0.52912518,  0.99571229, -0.83267781,  0.99999938, -0.70297861],\n",
       "        [ 0.58391896, -0.94569514, -0.94541242, -0.89141283,  0.04752302],\n",
       "        [-0.91611219,  0.47996606,  0.99956555,  0.89846357,  0.99841729],\n",
       "        [ 0.92165012, -0.91635631, -0.94257679, -0.99518518,  0.22218849],\n",
       "        [ 0.73971609,  0.90468204,  0.4822566 ,  0.47684822, -0.8801054 ],\n",
       "        [ 0.98126641, -0.17745136, -0.9931357 , -0.99837247, -0.98177684]]),\n",
       " array([[3.23901974e-01, 2.18336367e-01, 1.75373622e-03, 6.65797911e-03,\n",
       "         4.49349943e-01],\n",
       "        [2.30481414e-03, 6.39845929e-01, 4.35119921e-03, 3.53430919e-01,\n",
       "         6.71386666e-05],\n",
       "        [5.80932399e-05, 5.09402983e-02, 4.77553831e-02, 9.01245973e-01,\n",
       "         2.52814150e-07],\n",
       "        [3.68845150e-03, 2.66647867e-01, 1.41089844e-02, 6.93510536e-01,\n",
       "         2.20441603e-02],\n",
       "        [1.00093382e-02, 1.34465248e-01, 9.88973456e-03, 8.45133200e-01,\n",
       "         5.02478507e-04]]))"
      ]
     },
     "execution_count": 165,
     "metadata": {},
     "output_type": "execute_result"
    }
   ],
   "source": [
    "rnn_def(xt, a0, params)"
   ]
  },
  {
   "cell_type": "code",
   "execution_count": 166,
   "metadata": {},
   "outputs": [],
   "source": [
    "xt = np.random.randn(3, 5, 4)\n",
    "wx = np.random.randn(10, 3)\n",
    "a0 = np.random.randn(4, 5)\n",
    "wa = np.random.randn(10, 4)\n",
    "wy = np.random.randn(5, 10)\n",
    "ba = np.random.randn(10, 5)\n",
    "by = np.random.randn(5, 5)\n",
    "\n",
    "params = {\"wx\": wx, \"wa\": wa, \"wy\": wy, \"ba\": ba, \"by\": by}"
   ]
  },
  {
   "cell_type": "code",
   "execution_count": 167,
   "metadata": {},
   "outputs": [],
   "source": [
    "def rnn_forward(xt, a_next, params):\n",
    "    Tx = xt.shape[2]\n",
    "    \n",
    "    for i in range(Tx):\n",
    "        hidden_s, y_ = rnn_def(xt[:, :, i], a_next, params)      \n",
    "        \n",
    "    return (hidden_s, y_)"
   ]
  },
  {
   "cell_type": "code",
   "execution_count": 168,
   "metadata": {},
   "outputs": [],
   "source": [
    "hid, y = rnn_forward(xt, a0, params)"
   ]
  },
  {
   "cell_type": "code",
   "execution_count": 169,
   "metadata": {},
   "outputs": [
    {
     "name": "stdout",
     "output_type": "stream",
     "text": [
      "Hidden state info: \n",
      " [[-0.55795929  0.99490595 -0.03291065 -0.99986561  0.56920406]\n",
      " [ 0.22899944 -0.72330338  1.          0.99999971  0.99999906]\n",
      " [-0.91224602  0.94372598 -0.99983959  0.99878032 -0.99783326]\n",
      " [-0.91988577 -0.99411595  0.99968351 -0.0372161   0.99999799]\n",
      " [-0.94670258  0.50626751 -0.52180747  0.98478646  0.99855059]\n",
      " [-0.91511148  0.65678483  0.81084552 -0.18752748 -0.78564782]\n",
      " [ 0.11238975 -0.86254979  0.99636461 -0.99946745  0.49076179]\n",
      " [ 0.99650323  0.88520108  0.97324709  0.94278483  0.90645992]\n",
      " [-0.99128202 -0.99367185  0.99876273  0.82361281  0.99800197]\n",
      " [ 0.98852714  0.99453622 -0.88685304  0.90977358  0.99969876]]\n",
      "\n",
      "Output info: \n",
      " [[1.76640554e-02 9.75944303e-01 7.72139194e-05 6.26313617e-03\n",
      "  5.12913953e-05]\n",
      " [4.30580392e-02 7.68825972e-01 2.17121597e-03 9.26025140e-02\n",
      "  9.33422588e-02]\n",
      " [7.44983614e-04 9.76049085e-01 1.97552002e-02 3.24199569e-03\n",
      "  2.08735069e-04]\n",
      " [8.83322054e-03 6.19368283e-02 1.46492882e-01 7.70526041e-01\n",
      "  1.22110288e-02]\n",
      " [3.43800723e-03 2.28806006e-02 6.39793493e-02 8.26162468e-01\n",
      "  8.35395751e-02]]\n"
     ]
    }
   ],
   "source": [
    "print(\"Hidden state info: \\n\", hid)\n",
    "print(\"\\nOutput info: \\n\", y)"
   ]
  },
  {
   "cell_type": "code",
   "execution_count": null,
   "metadata": {},
   "outputs": [],
   "source": []
  },
  {
   "cell_type": "code",
   "execution_count": null,
   "metadata": {},
   "outputs": [],
   "source": []
  },
  {
   "cell_type": "code",
   "execution_count": null,
   "metadata": {},
   "outputs": [],
   "source": []
  }
 ],
 "metadata": {
  "kernelspec": {
   "display_name": "Python 3",
   "language": "python",
   "name": "python3"
  },
  "language_info": {
   "codemirror_mode": {
    "name": "ipython",
    "version": 3
   },
   "file_extension": ".py",
   "mimetype": "text/x-python",
   "name": "python",
   "nbconvert_exporter": "python",
   "pygments_lexer": "ipython3",
   "version": "3.6.10"
  }
 },
 "nbformat": 4,
 "nbformat_minor": 2
}
